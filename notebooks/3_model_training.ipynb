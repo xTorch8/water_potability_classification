{
 "cells": [
  {
   "cell_type": "markdown",
   "metadata": {},
   "source": [
    "<h1> Model Training </h1>"
   ]
  },
  {
   "cell_type": "code",
   "execution_count": 1,
   "metadata": {},
   "outputs": [],
   "source": [
    "import sys\n",
    "import numpy as np\n",
    "import pandas as pd"
   ]
  },
  {
   "cell_type": "code",
   "execution_count": 2,
   "metadata": {},
   "outputs": [],
   "source": [
    "sys.path.append(\"..\")"
   ]
  },
  {
   "cell_type": "code",
   "execution_count": 3,
   "metadata": {},
   "outputs": [],
   "source": [
    "df_train = pd.read_csv(\"../data/processed/train.csv\")\n",
    "df_validation = pd.read_csv(\"../data/processed/validation.csv\")\n",
    "df_testing = pd.read_csv(\"../data/processed/testing.csv\")"
   ]
  },
  {
   "cell_type": "code",
   "execution_count": 4,
   "metadata": {},
   "outputs": [],
   "source": [
    "X_train = df_train.drop(columns = [\"Potability\"])\n",
    "y_train = df_train[\"Potability\"]\n",
    "\n",
    "X_validation = df_validation.drop(columns = [\"Potability\"])\n",
    "y_validation = df_validation[\"Potability\"]\n",
    "\n",
    "X_testing = df_testing.drop(columns = [\"Potability\"])\n",
    "y_testing = df_testing[\"Potability\"]"
   ]
  },
  {
   "cell_type": "markdown",
   "metadata": {},
   "source": [
    "<h3> Support Vector Machine (SVM) </h3>"
   ]
  },
  {
   "cell_type": "code",
   "execution_count": 5,
   "metadata": {},
   "outputs": [],
   "source": [
    "from src.models.svm_model import svm_model"
   ]
  },
  {
   "cell_type": "code",
   "execution_count": 6,
   "metadata": {},
   "outputs": [
    {
     "name": "stdout",
     "output_type": "stream",
     "text": [
      "Starting training SVM model process...\n",
      "Training SVM model process completed.\n",
      "Classification Report: \n",
      "              precision    recall  f1-score   support\n",
      "\n",
      "           0       0.88      0.92      0.90     15931\n",
      "           1       0.87      0.81      0.84     10679\n",
      "\n",
      "    accuracy                           0.88     26610\n",
      "   macro avg       0.87      0.86      0.87     26610\n",
      "weighted avg       0.88      0.88      0.87     26610\n",
      "\n"
     ]
    }
   ],
   "source": [
    "svm_model(X_train, y_train, X_validation, y_validation, \"../src/models/saved_models/svm_model.pkl\")"
   ]
  },
  {
   "cell_type": "markdown",
   "metadata": {},
   "source": [
    "<h3> K-Nearest Neighbor (KNN) </h3>"
   ]
  },
  {
   "cell_type": "code",
   "execution_count": 5,
   "metadata": {},
   "outputs": [],
   "source": [
    "from src.models.knn_model import knn_model"
   ]
  },
  {
   "cell_type": "code",
   "execution_count": 6,
   "metadata": {},
   "outputs": [
    {
     "name": "stdout",
     "output_type": "stream",
     "text": [
      "Starting training KNN model process...\n",
      "Training KNN model process completed.\n",
      "Classification Report: \n",
      "              precision    recall  f1-score   support\n",
      "\n",
      "           0       0.76      0.93      0.84     15931\n",
      "           1       0.85      0.57      0.68     10679\n",
      "\n",
      "    accuracy                           0.79     26610\n",
      "   macro avg       0.81      0.75      0.76     26610\n",
      "weighted avg       0.80      0.79      0.78     26610\n",
      "\n"
     ]
    }
   ],
   "source": [
    "knn_model(X_train, y_train, X_validation, y_validation, \"../src/models/saved_models/knn_model.pkl\")"
   ]
  },
  {
   "cell_type": "markdown",
   "metadata": {},
   "source": [
    "<h3> Naive Bayes </h3>"
   ]
  },
  {
   "cell_type": "code",
   "execution_count": 7,
   "metadata": {},
   "outputs": [],
   "source": [
    "from src.models.naive_bayes_model import naive_bayes_model"
   ]
  },
  {
   "cell_type": "code",
   "execution_count": 8,
   "metadata": {},
   "outputs": [
    {
     "name": "stdout",
     "output_type": "stream",
     "text": [
      "Starting training Naive Bayes model process...\n",
      "Training Naive Bayes model process completed.\n",
      "Classification Report: \n",
      "              precision    recall  f1-score   support\n",
      "\n",
      "           0       0.81      0.90      0.85     15931\n",
      "           1       0.82      0.68      0.75     10679\n",
      "\n",
      "    accuracy                           0.81     26610\n",
      "   macro avg       0.81      0.79      0.80     26610\n",
      "weighted avg       0.81      0.81      0.81     26610\n",
      "\n"
     ]
    }
   ],
   "source": [
    "naive_bayes_model(X_train, y_train, X_validation, y_validation, \"../src/models/saved_models/naive_bayes_model.pkl\")"
   ]
  },
  {
   "cell_type": "markdown",
   "metadata": {},
   "source": [
    "<h3> Decision Tree </h3>"
   ]
  },
  {
   "cell_type": "code",
   "execution_count": 9,
   "metadata": {},
   "outputs": [],
   "source": [
    "from src.models.decision_tree_model import decision_tree_model"
   ]
  },
  {
   "cell_type": "code",
   "execution_count": 10,
   "metadata": {},
   "outputs": [
    {
     "name": "stdout",
     "output_type": "stream",
     "text": [
      "Starting training Decision Tree model process...\n",
      "Training Decision Tree model process completed.\n",
      "Classification Report: \n",
      "              precision    recall  f1-score   support\n",
      "\n",
      "           0       0.89      0.89      0.89     15931\n",
      "           1       0.84      0.83      0.83     10679\n",
      "\n",
      "    accuracy                           0.87     26610\n",
      "   macro avg       0.86      0.86      0.86     26610\n",
      "weighted avg       0.87      0.87      0.87     26610\n",
      "\n"
     ]
    }
   ],
   "source": [
    "decision_tree_model(X_train, y_train, X_validation, y_validation, \"../src/models/saved_models/decision_tree_model.pkl\")"
   ]
  },
  {
   "cell_type": "markdown",
   "metadata": {},
   "source": [
    "<h3> Logistic Regression </h3>"
   ]
  },
  {
   "cell_type": "code",
   "execution_count": 11,
   "metadata": {},
   "outputs": [],
   "source": [
    "from src.models.logistic_regression_model import logistic_regression_model"
   ]
  },
  {
   "cell_type": "code",
   "execution_count": 12,
   "metadata": {},
   "outputs": [
    {
     "name": "stdout",
     "output_type": "stream",
     "text": [
      "Starting training Logistic Regression model process...\n",
      "Training Logistic Regression model process completed.\n",
      "Classification Report: \n",
      "              precision    recall  f1-score   support\n",
      "\n",
      "           0       0.73      0.83      0.78     15931\n",
      "           1       0.68      0.53      0.60     10679\n",
      "\n",
      "    accuracy                           0.71     26610\n",
      "   macro avg       0.71      0.68      0.69     26610\n",
      "weighted avg       0.71      0.71      0.71     26610\n",
      "\n"
     ]
    }
   ],
   "source": [
    "logistic_regression_model(X_train, y_train, X_validation, y_validation, \"../src/models/saved_models/logistic_regression_model.pkl\")"
   ]
  }
 ],
 "metadata": {
  "kernelspec": {
   "display_name": "ai-ml",
   "language": "python",
   "name": "python3"
  },
  "language_info": {
   "codemirror_mode": {
    "name": "ipython",
    "version": 3
   },
   "file_extension": ".py",
   "mimetype": "text/x-python",
   "name": "python",
   "nbconvert_exporter": "python",
   "pygments_lexer": "ipython3",
   "version": "3.9.18"
  }
 },
 "nbformat": 4,
 "nbformat_minor": 2
}
